{
 "cells": [
  {
   "cell_type": "code",
   "execution_count": 25,
   "metadata": {},
   "outputs": [],
   "source": [
    "###20Newsgroup data set\n",
    "##Dataset is downloaded from sklearn \n",
    "from sklearn.datasets import fetch_20newsgroups\n",
    "newsgroups_train = fetch_20newsgroups(subset='train', shuffle = True)\n",
    "newsgroups_test = fetch_20newsgroups(subset='test', shuffle = True)"
   ]
  },
  {
   "cell_type": "code",
   "execution_count": 26,
   "metadata": {},
   "outputs": [
    {
     "name": "stdout",
     "output_type": "stream",
     "text": [
      "['alt.atheism', 'comp.graphics', 'comp.os.ms-windows.misc', 'comp.sys.ibm.pc.hardware', 'comp.sys.mac.hardware', 'comp.windows.x', 'misc.forsale', 'rec.autos', 'rec.motorcycles', 'rec.sport.baseball', 'rec.sport.hockey', 'sci.crypt', 'sci.electronics', 'sci.med', 'sci.space', 'soc.religion.christian', 'talk.politics.guns', 'talk.politics.mideast', 'talk.politics.misc', 'talk.religion.misc']\n"
     ]
    }
   ],
   "source": [
    "### Let's check what's inside datasets\n",
    "print(list(newsgroups_train.target_names))"
   ]
  },
  {
   "cell_type": "code",
   "execution_count": 27,
   "metadata": {},
   "outputs": [
    {
     "name": "stdout",
     "output_type": "stream",
     "text": [
      "go\n"
     ]
    }
   ],
   "source": [
    "import gensim\n",
    "from gensim.utils import simple_preprocess\n",
    "from gensim.parsing.preprocessing import STOPWORDS\n",
    "from nltk.stem import WordNetLemmatizer, SnowballStemmer\n",
    "from nltk.stem.porter import *\n",
    "import numpy as np\n",
    "np.random.seed(400)\n",
    "\n",
    "print(WordNetLemmatizer().lemmatize('went', pos = 'v')) # past tense to present tense\n",
    "\n",
    "import pandas as pd\n",
    "stemmer = SnowballStemmer(\"english\")"
   ]
  },
  {
   "cell_type": "code",
   "execution_count": 28,
   "metadata": {},
   "outputs": [
    {
     "name": "stderr",
     "output_type": "stream",
     "text": [
      "[nltk_data] Downloading package wordnet to\n",
      "[nltk_data]     C:\\Users\\14373\\AppData\\Roaming\\nltk_data...\n",
      "[nltk_data]   Package wordnet is already up-to-date!\n"
     ]
    },
    {
     "data": {
      "text/plain": [
       "True"
      ]
     },
     "execution_count": 28,
     "metadata": {},
     "output_type": "execute_result"
    }
   ],
   "source": [
    "import nltk\n",
    "nltk.download('wordnet')"
   ]
  },
  {
   "cell_type": "code",
   "execution_count": 29,
   "metadata": {},
   "outputs": [],
   "source": [
    "### Lemmatization and Stemming word\n",
    "### Both process convert a word into it's basic form.\n",
    "###\n",
    "\n",
    "def lemmatize_stemming(text):\n",
    "    return stemmer.stem(WordNetLemmatizer().lemmatize(text, pos='v'))\n",
    "\n",
    "# Tokenize and lemmatize\n",
    "def preprocess(text):\n",
    "    result=[]\n",
    "    for token in gensim.utils.simple_preprocess(text) :\n",
    "        if token not in gensim.parsing.preprocessing.STOPWORDS and len(token) > 3:\n",
    "            result.append(lemmatize_stemming(token))\n",
    "            \n",
    "    return result"
   ]
  },
  {
   "cell_type": "code",
   "execution_count": 30,
   "metadata": {},
   "outputs": [],
   "source": [
    "processed_docs = []\n",
    "\n",
    "for doc in newsgroups_train.data:\n",
    "    processed_docs.append(preprocess(doc))"
   ]
  },
  {
   "cell_type": "code",
   "execution_count": 31,
   "metadata": {},
   "outputs": [
    {
     "name": "stdout",
     "output_type": "stream",
     "text": [
      "[['lerxst', 'thing', 'subject', 'nntp', 'post', 'host', 'organ', 'univers', 'maryland', 'colleg', 'park', 'line', 'wonder', 'enlighten', 'door', 'sport', 'look', 'late', 'earli', 'call', 'bricklin', 'door', 'small', 'addit', 'bumper', 'separ', 'rest', 'bodi', 'know', 'tellm', 'model', 'engin', 'spec', 'year', 'product', 'histori', 'info', 'funki', 'look', 'mail', 'thank', 'bring', 'neighborhood', 'lerxst'], ['guykuo', 'carson', 'washington', 'subject', 'clock', 'poll', 'final', 'summari', 'final', 'clock', 'report', 'keyword', 'acceler', 'clock', 'upgrad', 'articl', 'shelley', 'qvfo', 'innc', 'organ', 'univers', 'washington', 'line', 'nntp', 'post', 'host', 'carson', 'washington', 'fair', 'number', 'brave', 'soul', 'upgrad', 'clock', 'oscil', 'share', 'experi', 'poll', 'send', 'brief', 'messag', 'detail', 'experi', 'procedur', 'speed', 'attain', 'rat', 'speed', 'card', 'adapt', 'heat', 'sink', 'hour', 'usag', 'floppi', 'disk', 'function', 'floppi', 'especi', 'request', 'summar', 'day', 'network', 'knowledg', 'base', 'clock', 'upgrad', 'haven', 'answer', 'poll', 'thank', 'guykuo', 'washington']]\n"
     ]
    }
   ],
   "source": [
    "### Check processed_docs\n",
    "print(processed_docs[:2])"
   ]
  },
  {
   "cell_type": "code",
   "execution_count": 32,
   "metadata": {},
   "outputs": [],
   "source": [
    "dictionary = gensim.corpora.Dictionary(processed_docs)"
   ]
  },
  {
   "cell_type": "code",
   "execution_count": 33,
   "metadata": {
    "scrolled": true
   },
   "outputs": [
    {
     "name": "stdout",
     "output_type": "stream",
     "text": [
      "0 addit\n",
      "1 bodi\n",
      "2 bricklin\n",
      "3 bring\n",
      "4 bumper\n",
      "5 call\n",
      "6 colleg\n",
      "7 door\n",
      "8 earli\n",
      "9 engin\n",
      "10 enlighten\n"
     ]
    }
   ],
   "source": [
    "###Checking dictionary created\n",
    "\n",
    "count = 0\n",
    "for k, v in dictionary.iteritems():\n",
    "    print(k, v)\n",
    "    count += 1\n",
    "    if count > 10:\n",
    "        break"
   ]
  },
  {
   "cell_type": "code",
   "execution_count": 34,
   "metadata": {},
   "outputs": [],
   "source": [
    "##OPTIONAL STEP\n",
    "##Remove very rare and very common words:\n",
    "# words appearing less than 15 times\n",
    "#words appearing in more than 10% of all documents\n",
    "\n",
    "dictionary.filter_extremes(no_below=15, no_above=0.1, keep_n= 100000)"
   ]
  },
  {
   "cell_type": "code",
   "execution_count": 35,
   "metadata": {},
   "outputs": [],
   "source": [
    "###Create the Bag-of-words model for each document i.e for each document we create a dictionary reporting how many\n",
    "##words and how many times those words appear. Save this to 'bow_corpus'\n",
    "\n",
    "bow_corpus = [dictionary.doc2bow(doc) for doc in processed_docs]"
   ]
  },
  {
   "cell_type": "code",
   "execution_count": 36,
   "metadata": {},
   "outputs": [
    {
     "name": "stdout",
     "output_type": "stream",
     "text": [
      "Word 18 (\"rest\") appears 1 time.\n",
      "Word 166 (\"clear\") appears 1 time.\n",
      "Word 336 (\"refer\") appears 1 time.\n",
      "Word 350 (\"true\") appears 1 time.\n",
      "Word 391 (\"technolog\") appears 1 time.\n",
      "Word 437 (\"christian\") appears 1 time.\n",
      "Word 453 (\"exampl\") appears 1 time.\n",
      "Word 476 (\"jew\") appears 1 time.\n",
      "Word 480 (\"lead\") appears 1 time.\n",
      "Word 482 (\"littl\") appears 3 time.\n",
      "Word 520 (\"wors\") appears 2 time.\n",
      "Word 721 (\"keith\") appears 3 time.\n",
      "Word 732 (\"punish\") appears 1 time.\n",
      "Word 803 (\"california\") appears 1 time.\n",
      "Word 859 (\"institut\") appears 1 time.\n",
      "Word 917 (\"similar\") appears 1 time.\n",
      "Word 990 (\"allan\") appears 1 time.\n",
      "Word 991 (\"anti\") appears 1 time.\n",
      "Word 992 (\"arriv\") appears 1 time.\n",
      "Word 993 (\"austria\") appears 1 time.\n",
      "Word 994 (\"caltech\") appears 2 time.\n",
      "Word 995 (\"distinguish\") appears 1 time.\n",
      "Word 996 (\"german\") appears 1 time.\n",
      "Word 997 (\"germani\") appears 3 time.\n",
      "Word 998 (\"hitler\") appears 1 time.\n",
      "Word 999 (\"livesey\") appears 2 time.\n",
      "Word 1000 (\"motto\") appears 2 time.\n",
      "Word 1001 (\"order\") appears 1 time.\n",
      "Word 1002 (\"pasadena\") appears 1 time.\n",
      "Word 1003 (\"pompous\") appears 1 time.\n",
      "Word 1004 (\"popul\") appears 1 time.\n",
      "Word 1005 (\"rank\") appears 1 time.\n",
      "Word 1006 (\"schneider\") appears 1 time.\n",
      "Word 1007 (\"semit\") appears 1 time.\n",
      "Word 1008 (\"social\") appears 1 time.\n",
      "Word 1009 (\"solntz\") appears 1 time.\n"
     ]
    }
   ],
   "source": [
    "##Preview BOW for our sample preprocessed document\n",
    "document_num = 20\n",
    "bow_doc_x = bow_corpus[document_num]\n",
    "\n",
    "for i in range(len(bow_doc_x)):\n",
    "    print(\"Word {} (\\\"{}\\\") appears {} time.\".format(bow_doc_x[i][0], \n",
    "                                                     dictionary[bow_doc_x[i][0]], \n",
    "                                                     bow_doc_x[i][1]))"
   ]
  },
  {
   "cell_type": "code",
   "execution_count": 38,
   "metadata": {},
   "outputs": [],
   "source": [
    "# LDA multicore \n",
    "###Train your lda model using gensim.models.LdaMulticore and save it to 'lda_model'\n",
    "\n",
    "lda_model =  gensim.models.LdaMulticore(bow_corpus, \n",
    "                                   num_topics = 8, \n",
    "                                   id2word = dictionary,                                    \n",
    "                                   passes = 10,\n",
    "                                   workers = 20)"
   ]
  },
  {
   "cell_type": "code",
   "execution_count": 39,
   "metadata": {},
   "outputs": [
    {
     "name": "stdout",
     "output_type": "stream",
     "text": [
      "Topic: 0 \n",
      "Words: 0.015*\"window\" + 0.005*\"wire\" + 0.004*\"power\" + 0.004*\"mous\" + 0.004*\"driver\" + 0.003*\"drive\" + 0.003*\"font\" + 0.003*\"card\" + 0.003*\"connect\" + 0.003*\"program\"\n",
      "\n",
      "\n",
      "Topic: 1 \n",
      "Words: 0.012*\"armenian\" + 0.007*\"turkish\" + 0.006*\"govern\" + 0.006*\"israel\" + 0.006*\"isra\" + 0.005*\"kill\" + 0.005*\"jew\" + 0.004*\"arab\" + 0.004*\"turk\" + 0.004*\"armenia\"\n",
      "\n",
      "\n",
      "Topic: 2 \n",
      "Words: 0.007*\"christian\" + 0.005*\"encrypt\" + 0.004*\"entri\" + 0.004*\"file\" + 0.004*\"truth\" + 0.004*\"islam\" + 0.004*\"religion\" + 0.004*\"chip\" + 0.003*\"claim\" + 0.003*\"true\"\n",
      "\n",
      "\n",
      "Topic: 3 \n",
      "Words: 0.005*\"jesus\" + 0.004*\"live\" + 0.003*\"life\" + 0.003*\"kill\" + 0.003*\"christian\" + 0.003*\"happen\" + 0.003*\"caus\" + 0.002*\"gun\" + 0.002*\"group\" + 0.002*\"talk\"\n",
      "\n",
      "\n",
      "Topic: 4 \n",
      "Words: 0.012*\"file\" + 0.008*\"drive\" + 0.007*\"program\" + 0.007*\"window\" + 0.006*\"softwar\" + 0.006*\"avail\" + 0.005*\"version\" + 0.005*\"imag\" + 0.005*\"graphic\" + 0.005*\"data\"\n",
      "\n",
      "\n",
      "Topic: 5 \n",
      "Words: 0.008*\"govern\" + 0.005*\"encrypt\" + 0.005*\"space\" + 0.005*\"clipper\" + 0.004*\"chip\" + 0.004*\"netcom\" + 0.004*\"technolog\" + 0.004*\"secur\" + 0.004*\"game\" + 0.003*\"presid\"\n",
      "\n",
      "\n",
      "Topic: 6 \n",
      "Words: 0.010*\"game\" + 0.009*\"team\" + 0.007*\"play\" + 0.005*\"nasa\" + 0.005*\"player\" + 0.005*\"hockey\" + 0.004*\"season\" + 0.004*\"pitt\" + 0.003*\"scienc\" + 0.003*\"pittsburgh\"\n",
      "\n",
      "\n",
      "Topic: 7 \n",
      "Words: 0.008*\"scsi\" + 0.008*\"moral\" + 0.007*\"exist\" + 0.006*\"christian\" + 0.006*\"atheist\" + 0.005*\"object\" + 0.005*\"church\" + 0.004*\"bike\" + 0.004*\"columbia\" + 0.003*\"atheism\"\n",
      "\n",
      "\n"
     ]
    }
   ],
   "source": [
    "###For each topic, we will explore the words occuring in that topic and its relative weight\n",
    "\n",
    "for idx, topic in lda_model.print_topics(-1):\n",
    "    print(\"Topic: {} \\nWords: {}\".format(idx, topic ))\n",
    "    print(\"\\n\")"
   ]
  },
  {
   "cell_type": "code",
   "execution_count": null,
   "metadata": {},
   "outputs": [],
   "source": [
    "What we can infer from the above result:- \n",
    "\n",
    "0: Graphics Cards\n",
    "1: Religion\n",
    "2: Space\n",
    "3: Politics\n",
    "4: Gun Violence\n",
    "5: Technology\n",
    "6: Sports\n",
    "7: Encryption"
   ]
  }
 ],
 "metadata": {
  "kernelspec": {
   "display_name": "Python 3",
   "language": "python",
   "name": "python3"
  },
  "language_info": {
   "codemirror_mode": {
    "name": "ipython",
    "version": 3
   },
   "file_extension": ".py",
   "mimetype": "text/x-python",
   "name": "python",
   "nbconvert_exporter": "python",
   "pygments_lexer": "ipython3",
   "version": "3.7.3"
  }
 },
 "nbformat": 4,
 "nbformat_minor": 2
}
